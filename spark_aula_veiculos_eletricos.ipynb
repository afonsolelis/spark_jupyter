{
 "cells": [
  {
   "cell_type": "markdown",
   "metadata": {},
   "source": [
    "# Aula de Spark: Análise de Veículos Elétricos\n",
    "\n",
    "Este notebook demonstra o processamento de dados de veículos elétricos comparando:\n",
    "- Processamento tradicional com Python puro\n",
    "- Processamento com Apache Spark\n",
    "\n",
    "## Dataset\n",
    "Dados de veículos elétricos registrados no estado de Washington (EUA).\n",
    "\n",
    "**Estrutura dos dados:**\n",
    "- VIN parcial, Condado, Cidade, Estado, CEP\n",
    "- Ano, Marca, Modelo\n",
    "- Tipo de veículo elétrico (BEV/PHEV)\n",
    "- Elegibilidade para incentivos\n",
    "- Alcance elétrico, MSRP\n",
    "- Localização geográfica"
   ]
  },
  {
   "cell_type": "markdown",
   "metadata": {},
   "source": [
    "## 1. Setup e Importações"
   ]
  },
  {
   "cell_type": "code",
   "execution_count": 3,
   "metadata": {},
   "outputs": [
    {
     "name": "stdout",
     "output_type": "stream",
     "text": [
      "✅ Dados já existem localmente\n"
     ]
    }
   ],
   "source": [
    "# Baixar dados do JSON se não existir\n",
    "import os\n",
    "import requests\n",
    "\n",
    "# Download do arquivo JSON se não existir\n",
    "if not os.path.exists('data/electric_vehicles.json'):\n",
    "    print(\"Baixando dados...\")\n",
    "    os.makedirs('data', exist_ok=True)\n",
    "    \n",
    "    # URL do dataset (substitua pela URL correta)\n",
    "    url = \"https://data.wa.gov/api/views/f6w7-q2d2/rows.json?accessType=DOWNLOAD\"\n",
    "    \n",
    "    response = requests.get(url)\n",
    "    if response.status_code == 200:\n",
    "        with open('data/electric_vehicles.json', 'w') as f:\n",
    "            f.write(response.text)\n",
    "        print(\"✅ Dados baixados com sucesso!\")\n",
    "    else:\n",
    "        print(f\"❌ Erro ao baixar dados: {response.status_code}\")\n",
    "else:\n",
    "    print(\"✅ Dados já existem localmente\")\n",
    "\n",
    "import json\n",
    "import time\n",
    "import pandas as pd\n",
    "from collections import Counter, defaultdict\n",
    "import matplotlib.pyplot as plt\n",
    "import seaborn as sns\n",
    "\n",
    "# Configurações para gráficos\n",
    "plt.style.use('seaborn-v0_8')\n",
    "sns.set_palette(\"husl\")"
   ]
  },
  {
   "cell_type": "markdown",
   "metadata": {},
   "source": [
    "## 2. Carregamento dos Dados"
   ]
  },
  {
   "cell_type": "code",
   "execution_count": 4,
   "metadata": {},
   "outputs": [
    {
     "name": "stdout",
     "output_type": "stream",
     "text": [
      "Metadados do dataset: Electric Vehicle Population Data\n",
      "Descrição: This dataset shows the Battery Electric Vehicles (BEVs) and Plug-in Hybrid Electric Vehicles (PHEVs)...\n",
      "Número de registros: 247344\n"
     ]
    }
   ],
   "source": [
    "# Carregando o arquivo JSON\n",
    "with open('data/electric_vehicles.json', 'r') as f:\n",
    "    data = json.load(f)\n",
    "\n",
    "print(f\"Metadados do dataset: {data['meta']['view']['name']}\")\n",
    "print(f\"Descrição: {data['meta']['view']['description'][:100]}...\")\n",
    "print(f\"Número de registros: {len(data['data'])}\")"
   ]
  },
  {
   "cell_type": "code",
   "execution_count": 5,
   "metadata": {},
   "outputs": [
    {
     "name": "stdout",
     "output_type": "stream",
     "text": [
      "Exemplo de registro:\n",
      "vin: 1N4BZ0CP5G\n",
      "county: King\n",
      "city: Seattle\n",
      "state: WA\n",
      "postal_code: 98125\n",
      "model_year: 2016\n",
      "make: NISSAN\n",
      "model: LEAF\n",
      "ev_type: Battery Electric Vehicle (BEV)\n",
      "cafv_eligibility: Clean Alternative Fuel Vehicle Eligible\n",
      "electric_range: 84\n",
      "base_msrp: 0\n",
      "legislative_district: 46\n",
      "dol_vehicle_id: 349455557\n",
      "geocoded_column: POINT (-122.30253 47.72656)\n",
      "electric_utility: CITY OF SEATTLE - (WA)|CITY OF TACOMA - (WA)\n",
      "census_tract: 53033000202\n"
     ]
    }
   ],
   "source": [
    "# Extraindo e estruturando os dados\n",
    "raw_data = data['data']\n",
    "\n",
    "# Definindo os índices das colunas baseado na estrutura observada\n",
    "columns = {\n",
    "    'vin': 8,\n",
    "    'county': 9,\n",
    "    'city': 10,\n",
    "    'state': 11,\n",
    "    'postal_code': 12,\n",
    "    'model_year': 13,\n",
    "    'make': 14,\n",
    "    'model': 15,\n",
    "    'ev_type': 16,\n",
    "    'cafv_eligibility': 17,\n",
    "    'electric_range': 18,\n",
    "    'base_msrp': 19,\n",
    "    'legislative_district': 20,\n",
    "    'dol_vehicle_id': 21,\n",
    "    'geocoded_column': 22,\n",
    "    'electric_utility': 23,\n",
    "    'census_tract': 24\n",
    "}\n",
    "\n",
    "print(\"Exemplo de registro:\")\n",
    "for key, idx in columns.items():\n",
    "    print(f\"{key}: {raw_data[0][idx]}\")"
   ]
  },
  {
   "cell_type": "markdown",
   "metadata": {},
   "source": [
    "## 3. Processamento SEM Spark (Python Puro)\n",
    "\n",
    "Vamos implementar várias análises usando apenas Python nativo para depois comparar com Spark."
   ]
  },
  {
   "cell_type": "code",
   "execution_count": 6,
   "metadata": {},
   "outputs": [
    {
     "name": "stdout",
     "output_type": "stream",
     "text": [
      "\n",
      "🐍 PROCESSAMENTO PYTHON PURO\n",
      "Tempo de execução: 0.5645 segundos\n",
      "\n",
      "Top 5 marcas:\n",
      "  TESLA: 105,001 veículos\n",
      "  CHEVROLET: 17,840 veículos\n",
      "  NISSAN: 15,892 veículos\n",
      "  FORD: 13,270 veículos\n",
      "  KIA: 11,978 veículos\n"
     ]
    }
   ],
   "source": [
    "def processar_sem_spark():\n",
    "    \"\"\"Análises usando Python puro\"\"\"\n",
    "    \n",
    "    start_time = time.time()\n",
    "    \n",
    "    # 1. Contagem por marca\n",
    "    marcas = Counter()\n",
    "    for row in raw_data:\n",
    "        marca = row[columns['make']]\n",
    "        if marca:\n",
    "            marcas[marca] += 1\n",
    "    \n",
    "    # 2. Contagem por tipo de veículo elétrico\n",
    "    tipos_ev = Counter()\n",
    "    for row in raw_data:\n",
    "        tipo = row[columns['ev_type']]\n",
    "        if tipo:\n",
    "            tipos_ev[tipo] += 1\n",
    "    \n",
    "    # 3. Alcance elétrico médio por marca (top 5 marcas)\n",
    "    top_marcas = [marca for marca, _ in marcas.most_common(5)]\n",
    "    alcance_por_marca = defaultdict(list)\n",
    "    \n",
    "    for row in raw_data:\n",
    "        marca = row[columns['make']]\n",
    "        alcance = row[columns['electric_range']]\n",
    "        \n",
    "        if marca in top_marcas and alcance and str(alcance).isdigit():\n",
    "            alcance_por_marca[marca].append(int(alcance))\n",
    "    \n",
    "    # Calculando médias\n",
    "    alcance_medio = {}\n",
    "    for marca, alcances in alcance_por_marca.items():\n",
    "        if alcances:\n",
    "            alcance_medio[marca] = sum(alcances) / len(alcances)\n",
    "    \n",
    "    # 4. Distribuição por ano\n",
    "    anos = Counter()\n",
    "    for row in raw_data:\n",
    "        ano = row[columns['model_year']]\n",
    "        if ano and str(ano).isdigit():\n",
    "            anos[int(ano)] += 1\n",
    "    \n",
    "    # 5. Top 10 cidades\n",
    "    cidades = Counter()\n",
    "    for row in raw_data:\n",
    "        cidade = row[columns['city']]\n",
    "        if cidade:\n",
    "            cidades[cidade] += 1\n",
    "    \n",
    "    end_time = time.time()\n",
    "    \n",
    "    return {\n",
    "        'tempo_execucao': end_time - start_time,\n",
    "        'top_marcas': marcas.most_common(10),\n",
    "        'tipos_ev': tipos_ev.most_common(),\n",
    "        'alcance_medio': alcance_medio,\n",
    "        'distribuicao_anos': dict(anos.most_common()),\n",
    "        'top_cidades': cidades.most_common(10)\n",
    "    }\n",
    "\n",
    "# Executando análise sem Spark\n",
    "resultado_python = processar_sem_spark()\n",
    "print(f\"\\n🐍 PROCESSAMENTO PYTHON PURO\")\n",
    "print(f\"Tempo de execução: {resultado_python['tempo_execucao']:.4f} segundos\")\n",
    "print(f\"\\nTop 5 marcas:\")\n",
    "for marca, count in resultado_python['top_marcas'][:5]:\n",
    "    print(f\"  {marca}: {count:,} veículos\")"
   ]
  },
  {
   "cell_type": "markdown",
   "metadata": {},
   "source": [
    "## 4. Setup do Spark"
   ]
  },
  {
   "cell_type": "code",
   "execution_count": 7,
   "metadata": {},
   "outputs": [
    {
     "name": "stderr",
     "output_type": "stream",
     "text": [
      "WARNING: Using incubator modules: jdk.incubator.vector\n",
      "Using Spark's default log4j profile: org/apache/spark/log4j2-defaults.properties\n",
      "25/06/14 03:14:30 WARN Utils: Your hostname, codespaces-e244e7, resolves to a loopback address: 127.0.0.1; using 10.0.2.100 instead (on interface eth0)\n",
      "25/06/14 03:14:30 WARN Utils: Set SPARK_LOCAL_IP if you need to bind to another address\n",
      "Using Spark's default log4j profile: org/apache/spark/log4j2-defaults.properties\n",
      "Setting default log level to \"WARN\".\n",
      "To adjust logging level use sc.setLogLevel(newLevel). For SparkR, use setLogLevel(newLevel).\n",
      "25/06/14 03:14:31 WARN NativeCodeLoader: Unable to load native-hadoop library for your platform... using builtin-java classes where applicable\n"
     ]
    },
    {
     "name": "stdout",
     "output_type": "stream",
     "text": [
      "🚀 Spark inicializado - Versão: 4.0.0\n",
      "Spark UI disponível em: http://4de482d4-a852-42d6-91b7-6413f050a846.internal.cloudapp.net:4040\n"
     ]
    }
   ],
   "source": [
    "from pyspark.sql import SparkSession\n",
    "from pyspark.sql.functions import col, count, avg, desc, when, isnan, isnull\n",
    "from pyspark.sql.types import StructType, StructField, StringType, IntegerType, DoubleType\n",
    "\n",
    "# Criando sessão Spark\n",
    "spark = SparkSession.builder \\\n",
    "    .appName(\"AnaliseVeiculosEletricos\") \\\n",
    "    .config(\"spark.sql.adaptive.enabled\", \"true\") \\\n",
    "    .config(\"spark.sql.adaptive.coalescePartitions.enabled\", \"true\") \\\n",
    "    .getOrCreate()\n",
    "\n",
    "print(f\"🚀 Spark inicializado - Versão: {spark.version}\")\n",
    "print(f\"Spark UI disponível em: {spark.sparkContext.uiWebUrl}\")"
   ]
  },
  {
   "cell_type": "markdown",
   "metadata": {},
   "source": [
    "## 5. Processamento COM Spark"
   ]
  },
  {
   "cell_type": "code",
   "execution_count": 8,
   "metadata": {},
   "outputs": [
    {
     "name": "stderr",
     "output_type": "stream",
     "text": [
      "25/06/14 03:14:53 WARN TaskSetManager: Stage 0 contains a task of very large size (16147 KiB). The maximum recommended task size is 1000 KiB.\n",
      "                                                                                \r"
     ]
    },
    {
     "name": "stdout",
     "output_type": "stream",
     "text": [
      "DataFrame criado com 247,344 registros\n",
      "Número de partições: 4\n",
      "\\nSchema do DataFrame:\n",
      "root\n",
      " |-- base_msrp: string (nullable = true)\n",
      " |-- cafv_eligibility: string (nullable = true)\n",
      " |-- census_tract: string (nullable = true)\n",
      " |-- city: string (nullable = true)\n",
      " |-- county: string (nullable = true)\n",
      " |-- dol_vehicle_id: string (nullable = true)\n",
      " |-- electric_range: long (nullable = true)\n",
      " |-- electric_utility: string (nullable = true)\n",
      " |-- ev_type: string (nullable = true)\n",
      " |-- geocoded_column: string (nullable = true)\n",
      " |-- legislative_district: string (nullable = true)\n",
      " |-- make: string (nullable = true)\n",
      " |-- model: string (nullable = true)\n",
      " |-- model_year: long (nullable = true)\n",
      " |-- postal_code: string (nullable = true)\n",
      " |-- state: string (nullable = true)\n",
      " |-- vin: string (nullable = true)\n",
      "\n"
     ]
    },
    {
     "name": "stderr",
     "output_type": "stream",
     "text": [
      "25/06/14 03:14:55 WARN TaskSetManager: Stage 3 contains a task of very large size (16147 KiB). The maximum recommended task size is 1000 KiB.\n",
      "[Stage 3:>                                                          (0 + 1) / 1]\r"
     ]
    },
    {
     "name": "stdout",
     "output_type": "stream",
     "text": [
      "+---------+---------------------------------------+------------+---------+--------+--------------+--------------+---------------------------------------------+--------------------------------------+---------------------------+--------------------+------+--------+----------+-----------+-----+----------+\n",
      "|base_msrp|cafv_eligibility                       |census_tract|city     |county  |dol_vehicle_id|electric_range|electric_utility                             |ev_type                               |geocoded_column            |legislative_district|make  |model   |model_year|postal_code|state|vin       |\n",
      "+---------+---------------------------------------+------------+---------+--------+--------------+--------------+---------------------------------------------+--------------------------------------+---------------------------+--------------------+------+--------+----------+-----------+-----+----------+\n",
      "|0        |Clean Alternative Fuel Vehicle Eligible|53033000202 |Seattle  |King    |349455557     |84            |CITY OF SEATTLE - (WA)|CITY OF TACOMA - (WA) |Battery Electric Vehicle (BEV)        |POINT (-122.30253 47.72656)|46                  |NISSAN|LEAF    |2016      |98125      |WA   |1N4BZ0CP5G|\n",
      "|31950    |Clean Alternative Fuel Vehicle Eligible|53033025804 |Renton   |King    |210641315     |93            |PUGET SOUND ENERGY INC||CITY OF TACOMA - (WA)|Battery Electric Vehicle (BEV)        |POINT (-122.08747 47.4466) |11                  |KIA   |SOUL    |2016      |98058      |WA   |KNDJX3AEXG|\n",
      "|0        |Clean Alternative Fuel Vehicle Eligible|53033002600 |Seattle  |King    |171417494     |215           |CITY OF SEATTLE - (WA)|CITY OF TACOMA - (WA) |Battery Electric Vehicle (BEV)        |POINT (-122.31676 47.68156)|43                  |TESLA |MODEL 3 |2018      |98115      |WA   |5YJ3E1EB2J|\n",
      "|0        |Not eligible due to low battery range  |53035080600 |Bremerton|Kitsap  |262542927     |21            |PUGET SOUND ENERGY INC                       |Plug-in Hybrid Electric Vehicle (PHEV)|POINT (-122.65223 47.57192)|26                  |JEEP  |WRANGLER|2024      |98312      |WA   |1C4RJXN64R|\n",
      "|0        |Clean Alternative Fuel Vehicle Eligible|53067011810 |Olympia  |Thurston|110432815     |215           |PUGET SOUND ENERGY INC                       |Battery Electric Vehicle (BEV)        |POINT (-122.9131 47.01359) |35                  |TESLA |MODEL 3 |2018      |98512      |WA   |5YJ3E1EB1J|\n",
      "+---------+---------------------------------------+------------+---------+--------+--------------+--------------+---------------------------------------------+--------------------------------------+---------------------------+--------------------+------+--------+----------+-----------+-----+----------+\n",
      "only showing top 5 rows\n"
     ]
    },
    {
     "name": "stderr",
     "output_type": "stream",
     "text": [
      "                                                                                \r"
     ]
    }
   ],
   "source": [
    "# Criando DataFrame com tratamento adequado de tipos\n",
    "df_data = []\n",
    "for row in raw_data:\n",
    "    # Função auxiliar para converter valores numéricos\n",
    "    def safe_int(value):\n",
    "        if value is None or value == \"\" or value == \"0\":\n",
    "            return None\n",
    "        try:\n",
    "            return int(value)\n",
    "        except (ValueError, TypeError):\n",
    "            return None\n",
    "    \n",
    "    # Criando um dicionário com apenas os campos que nos interessam\n",
    "    row_dict = {\n",
    "        'vin': row[8] if len(row) > 8 and row[8] else None,\n",
    "        'county': row[9] if len(row) > 9 and row[9] else None,\n",
    "        'city': row[10] if len(row) > 10 and row[10] else None,\n",
    "        'state': row[11] if len(row) > 11 and row[11] else None,\n",
    "        'postal_code': row[12] if len(row) > 12 and row[12] else None,\n",
    "        'model_year': safe_int(row[13]) if len(row) > 13 else None,\n",
    "        'make': row[14] if len(row) > 14 and row[14] else None,\n",
    "        'model': row[15] if len(row) > 15 and row[15] else None,\n",
    "        'ev_type': row[16] if len(row) > 16 and row[16] else None,\n",
    "        'cafv_eligibility': row[17] if len(row) > 17 and row[17] else None,\n",
    "        'electric_range': safe_int(row[18]) if len(row) > 18 else None,\n",
    "        'base_msrp': row[19] if len(row) > 19 and row[19] else None,\n",
    "        'legislative_district': row[20] if len(row) > 20 and row[20] else None,\n",
    "        'dol_vehicle_id': row[21] if len(row) > 21 and row[21] else None,\n",
    "        'geocoded_column': row[22] if len(row) > 22 and row[22] else None,\n",
    "        'electric_utility': row[23] if len(row) > 23 and row[23] else None,\n",
    "        'census_tract': row[24] if len(row) > 24 and row[24] else None\n",
    "    }\n",
    "    df_data.append(row_dict)\n",
    "\n",
    "# Criando DataFrame Spark a partir dos dicionários\n",
    "df = spark.createDataFrame(df_data)\n",
    "\n",
    "print(f\"DataFrame criado com {df.count():,} registros\")\n",
    "print(f\"Número de partições: {df.rdd.getNumPartitions()}\")\n",
    "\n",
    "# Verificando schema\n",
    "print(\"\\\\nSchema do DataFrame:\")\n",
    "df.printSchema()\n",
    "\n",
    "# Cache do DataFrame para reutilização\n",
    "df.cache()\n",
    "df.show(5, truncate=False)"
   ]
  },
  {
   "cell_type": "code",
   "execution_count": 9,
   "metadata": {},
   "outputs": [
    {
     "name": "stderr",
     "output_type": "stream",
     "text": [
      "25/06/14 03:14:57 WARN TaskSetManager: Stage 4 contains a task of very large size (16147 KiB). The maximum recommended task size is 1000 KiB.\n",
      "25/06/14 03:14:58 WARN TaskSetManager: Stage 5 contains a task of very large size (16147 KiB). The maximum recommended task size is 1000 KiB.\n",
      "25/06/14 03:14:59 WARN TaskSetManager: Stage 8 contains a task of very large size (16147 KiB). The maximum recommended task size is 1000 KiB.\n",
      "25/06/14 03:15:00 WARN TaskSetManager: Stage 16 contains a task of very large size (16147 KiB). The maximum recommended task size is 1000 KiB.\n",
      "25/06/14 03:15:00 WARN TaskSetManager: Stage 19 contains a task of very large size (16147 KiB). The maximum recommended task size is 1000 KiB.\n",
      "25/06/14 03:15:01 WARN TaskSetManager: Stage 27 contains a task of very large size (16147 KiB). The maximum recommended task size is 1000 KiB.\n"
     ]
    },
    {
     "name": "stdout",
     "output_type": "stream",
     "text": [
      "\n",
      "⚡ PROCESSAMENTO SPARK\n",
      "Tempo de execução: 4.3574 segundos\n",
      "\n",
      "Top 5 marcas:\n",
      "  TESLA: 105,001 veículos\n",
      "  CHEVROLET: 17,840 veículos\n",
      "  NISSAN: 15,892 veículos\n",
      "  FORD: 13,270 veículos\n",
      "  KIA: 11,978 veículos\n"
     ]
    }
   ],
   "source": [
    "def processar_com_spark():\n",
    "    \"\"\"Análises usando Spark\"\"\"\n",
    "    \n",
    "    start_time = time.time()\n",
    "    \n",
    "    # Importando as funções do Spark para evitar conflitos\n",
    "    from pyspark.sql.functions import count as spark_count, avg, desc\n",
    "    \n",
    "    # 1. Contagem por marca\n",
    "    top_marcas = df.filter(col(\"make\").isNotNull()) \\\n",
    "                   .groupBy(\"make\") \\\n",
    "                   .agg(spark_count(\"*\").alias(\"count\")) \\\n",
    "                   .orderBy(desc(\"count\")) \\\n",
    "                   .limit(10) \\\n",
    "                   .collect()\n",
    "    \n",
    "    # 2. Contagem por tipo de veículo elétrico\n",
    "    tipos_ev = df.filter(col(\"ev_type\").isNotNull()) \\\n",
    "                 .groupBy(\"ev_type\") \\\n",
    "                 .agg(spark_count(\"*\").alias(\"count\")) \\\n",
    "                 .orderBy(desc(\"count\")) \\\n",
    "                 .collect()\n",
    "    \n",
    "    # 3. Alcance elétrico médio por marca (top 5 marcas)\n",
    "    top_5_marcas = [row['make'] for row in top_marcas[:5]]\n",
    "    \n",
    "    alcance_medio = df.filter(col(\"make\").isin(top_5_marcas)) \\\n",
    "                      .filter(col(\"electric_range\").isNotNull()) \\\n",
    "                      .filter(col(\"electric_range\") > 0) \\\n",
    "                      .groupBy(\"make\") \\\n",
    "                      .agg(avg(\"electric_range\").alias(\"avg_range\")) \\\n",
    "                      .collect()\n",
    "    \n",
    "    # 4. Distribuição por ano\n",
    "    distribuicao_anos = df.filter(col(\"model_year\").isNotNull()) \\\n",
    "                          .groupBy(\"model_year\") \\\n",
    "                          .agg(spark_count(\"*\").alias(\"count\")) \\\n",
    "                          .orderBy(\"model_year\") \\\n",
    "                          .collect()\n",
    "    \n",
    "    # 5. Top 10 cidades\n",
    "    top_cidades = df.filter(col(\"city\").isNotNull()) \\\n",
    "                    .groupBy(\"city\") \\\n",
    "                    .agg(spark_count(\"*\").alias(\"count\")) \\\n",
    "                    .orderBy(desc(\"count\")) \\\n",
    "                    .limit(10) \\\n",
    "                    .collect()\n",
    "    \n",
    "    end_time = time.time()\n",
    "    \n",
    "    return {\n",
    "        'tempo_execucao': end_time - start_time,\n",
    "        'top_marcas': [(row['make'], row['count']) for row in top_marcas],\n",
    "        'tipos_ev': [(row['ev_type'], row['count']) for row in tipos_ev],\n",
    "        'alcance_medio': {row['make']: row['avg_range'] for row in alcance_medio},\n",
    "        'distribuicao_anos': {row['model_year']: row['count'] for row in distribuicao_anos},\n",
    "        'top_cidades': [(row['city'], row['count']) for row in top_cidades]\n",
    "    }\n",
    "\n",
    "# Executando análise com Spark\n",
    "resultado_spark = processar_com_spark()\n",
    "print(f\"\\n⚡ PROCESSAMENTO SPARK\")\n",
    "print(f\"Tempo de execução: {resultado_spark['tempo_execucao']:.4f} segundos\")\n",
    "print(f\"\\nTop 5 marcas:\")\n",
    "for marca, count in resultado_spark['top_marcas'][:5]:\n",
    "    print(f\"  {marca}: {count:,} veículos\")"
   ]
  },
  {
   "cell_type": "markdown",
   "metadata": {},
   "source": [
    "## 6. Comparação de Performance"
   ]
  },
  {
   "cell_type": "code",
   "execution_count": 10,
   "metadata": {},
   "outputs": [
    {
     "name": "stdout",
     "output_type": "stream",
     "text": [
      "📊 COMPARAÇÃO DE PERFORMANCE\n",
      "Python puro: 0.5645s\n",
      "Spark:       4.3574s\n",
      "Diferença:   3.7929s\n",
      "Python foi 7.72x mais rápido\n",
      "\n",
      "💡 OBSERVAÇÕES:\n",
      "- Para datasets pequenos, Python puro pode ser mais rápido devido ao overhead do Spark\n",
      "- Spark brilha com datasets maiores (GB/TB) e processamento distribuído\n",
      "- Spark oferece melhor escalabilidade e recursos como caching, SQL, etc.\n"
     ]
    }
   ],
   "source": [
    "# Comparando tempos de execução\n",
    "tempo_python = resultado_python['tempo_execucao']\n",
    "tempo_spark = resultado_spark['tempo_execucao']\n",
    "\n",
    "print(\"📊 COMPARAÇÃO DE PERFORMANCE\")\n",
    "print(f\"Python puro: {tempo_python:.4f}s\")\n",
    "print(f\"Spark:       {tempo_spark:.4f}s\")\n",
    "print(f\"Diferença:   {abs(tempo_python - tempo_spark):.4f}s\")\n",
    "\n",
    "if tempo_python < tempo_spark:\n",
    "    speedup = tempo_spark / tempo_python\n",
    "    print(f\"Python foi {speedup:.2f}x mais rápido\")\n",
    "else:\n",
    "    speedup = tempo_python / tempo_spark\n",
    "    print(f\"Spark foi {speedup:.2f}x mais rápido\")\n",
    "\n",
    "print(\"\\n💡 OBSERVAÇÕES:\")\n",
    "print(\"- Para datasets pequenos, Python puro pode ser mais rápido devido ao overhead do Spark\")\n",
    "print(\"- Spark brilha com datasets maiores (GB/TB) e processamento distribuído\")\n",
    "print(\"- Spark oferece melhor escalabilidade e recursos como caching, SQL, etc.\")"
   ]
  },
  {
   "cell_type": "markdown",
   "metadata": {},
   "source": [
    "## 7. Análise Exploratória dos Dados (EDA) com Spark"
   ]
  },
  {
   "cell_type": "code",
   "execution_count": 11,
   "metadata": {},
   "outputs": [
    {
     "name": "stdout",
     "output_type": "stream",
     "text": [
      "📈 ESTATÍSTICAS GERAIS\n"
     ]
    },
    {
     "name": "stderr",
     "output_type": "stream",
     "text": [
      "25/06/14 03:15:01 WARN TaskSetManager: Stage 30 contains a task of very large size (16147 KiB). The maximum recommended task size is 1000 KiB.\n"
     ]
    },
    {
     "name": "stdout",
     "output_type": "stream",
     "text": [
      "Total de registros: 247,344\n",
      "Número de colunas: 17\n",
      "\n",
      "🔍 DADOS NULOS POR COLUNA:\n"
     ]
    },
    {
     "name": "stderr",
     "output_type": "stream",
     "text": [
      "25/06/14 03:15:01 WARN TaskSetManager: Stage 33 contains a task of very large size (16147 KiB). The maximum recommended task size is 1000 KiB.\n",
      "25/06/14 03:15:01 WARN TaskSetManager: Stage 36 contains a task of very large size (16147 KiB). The maximum recommended task size is 1000 KiB.\n"
     ]
    },
    {
     "name": "stdout",
     "output_type": "stream",
     "text": [
      "  make: 0 (0.0%)\n"
     ]
    },
    {
     "name": "stderr",
     "output_type": "stream",
     "text": [
      "25/06/14 03:15:02 WARN TaskSetManager: Stage 39 contains a task of very large size (16147 KiB). The maximum recommended task size is 1000 KiB.\n",
      "25/06/14 03:15:02 WARN TaskSetManager: Stage 42 contains a task of very large size (16147 KiB). The maximum recommended task size is 1000 KiB.\n"
     ]
    },
    {
     "name": "stdout",
     "output_type": "stream",
     "text": [
      "  model: 0 (0.0%)\n"
     ]
    },
    {
     "name": "stderr",
     "output_type": "stream",
     "text": [
      "25/06/14 03:15:02 WARN TaskSetManager: Stage 45 contains a task of very large size (16147 KiB). The maximum recommended task size is 1000 KiB.\n",
      "25/06/14 03:15:02 WARN TaskSetManager: Stage 48 contains a task of very large size (16147 KiB). The maximum recommended task size is 1000 KiB.\n",
      "25/06/14 03:15:02 WARN TaskSetManager: Stage 51 contains a task of very large size (16147 KiB). The maximum recommended task size is 1000 KiB.\n"
     ]
    },
    {
     "name": "stdout",
     "output_type": "stream",
     "text": [
      "  model_year: 0 (0.0%)\n"
     ]
    },
    {
     "name": "stderr",
     "output_type": "stream",
     "text": [
      "25/06/14 03:15:02 WARN TaskSetManager: Stage 54 contains a task of very large size (16147 KiB). The maximum recommended task size is 1000 KiB.\n",
      "25/06/14 03:15:02 WARN TaskSetManager: Stage 57 contains a task of very large size (16147 KiB). The maximum recommended task size is 1000 KiB.\n"
     ]
    },
    {
     "name": "stdout",
     "output_type": "stream",
     "text": [
      "  ev_type: 0 (0.0%)\n"
     ]
    },
    {
     "name": "stderr",
     "output_type": "stream",
     "text": [
      "25/06/14 03:15:03 WARN TaskSetManager: Stage 60 contains a task of very large size (16147 KiB). The maximum recommended task size is 1000 KiB.\n",
      "25/06/14 03:15:03 WARN TaskSetManager: Stage 63 contains a task of very large size (16147 KiB). The maximum recommended task size is 1000 KiB.\n"
     ]
    },
    {
     "name": "stdout",
     "output_type": "stream",
     "text": [
      "  electric_range: 149,654 (60.5%)\n"
     ]
    },
    {
     "name": "stderr",
     "output_type": "stream",
     "text": [
      "25/06/14 03:15:03 WARN TaskSetManager: Stage 66 contains a task of very large size (16147 KiB). The maximum recommended task size is 1000 KiB.\n",
      "25/06/14 03:15:03 WARN TaskSetManager: Stage 69 contains a task of very large size (16147 KiB). The maximum recommended task size is 1000 KiB.\n",
      "25/06/14 03:15:03 WARN TaskSetManager: Stage 72 contains a task of very large size (16147 KiB). The maximum recommended task size is 1000 KiB.\n"
     ]
    },
    {
     "name": "stdout",
     "output_type": "stream",
     "text": [
      "  city: 4 (0.0%)\n",
      "  county: 4 (0.0%)\n"
     ]
    }
   ],
   "source": [
    "# Estatísticas gerais do dataset\n",
    "print(\"📈 ESTATÍSTICAS GERAIS\")\n",
    "print(f\"Total de registros: {df.count():,}\")\n",
    "print(f\"Número de colunas: {len(df.columns)}\")\n",
    "\n",
    "# Verificando dados nulos - corrigido para lidar com tipos adequadamente\n",
    "print(\"\\n🔍 DADOS NULOS POR COLUNA:\")\n",
    "colunas_interesse = ['make', 'model', 'model_year', 'ev_type', 'electric_range', 'city', 'county']\n",
    "\n",
    "for coluna in colunas_interesse:\n",
    "    # Para colunas string, verificamos nulos e strings vazias\n",
    "    if coluna in ['make', 'model', 'ev_type', 'city', 'county']:\n",
    "        null_count = df.filter(col(coluna).isNull() | (col(coluna) == \"\")).count()\n",
    "    else:\n",
    "        # Para colunas numéricas, verificamos apenas nulos\n",
    "        null_count = df.filter(col(coluna).isNull()).count()\n",
    "    \n",
    "    total = df.count()\n",
    "    percentual = (null_count / total) * 100\n",
    "    print(f\"  {coluna}: {null_count:,} ({percentual:.1f}%)\")"
   ]
  },
  {
   "cell_type": "code",
   "execution_count": 12,
   "metadata": {},
   "outputs": [
    {
     "name": "stdout",
     "output_type": "stream",
     "text": [
      "🔋 TIPOS DE VEÍCULOS ELÉTRICOS\n"
     ]
    },
    {
     "name": "stderr",
     "output_type": "stream",
     "text": [
      "25/06/14 03:15:03 WARN TaskSetManager: Stage 75 contains a task of very large size (16147 KiB). The maximum recommended task size is 1000 KiB.\n"
     ]
    },
    {
     "name": "stdout",
     "output_type": "stream",
     "text": [
      "+--------------------+------+\n",
      "|             ev_type| count|\n",
      "+--------------------+------+\n",
      "|Battery Electric ...|197146|\n",
      "|Plug-in Hybrid El...| 50198|\n",
      "+--------------------+------+\n",
      "\n",
      "🎯 ELEGIBILIDADE PARA INCENTIVOS\n",
      "+------------------------------------------------------------+------+\n",
      "|cafv_eligibility                                            |count |\n",
      "+------------------------------------------------------------+------+\n",
      "|Eligibility unknown as battery range has not been researched|149634|\n",
      "|Clean Alternative Fuel Vehicle Eligible                     |74523 |\n",
      "|Not eligible due to low battery range                       |23187 |\n",
      "+------------------------------------------------------------+------+\n",
      "\n"
     ]
    },
    {
     "name": "stderr",
     "output_type": "stream",
     "text": [
      "25/06/14 03:15:04 WARN TaskSetManager: Stage 78 contains a task of very large size (16147 KiB). The maximum recommended task size is 1000 KiB.\n"
     ]
    }
   ],
   "source": [
    "# Análise dos tipos de veículos elétricos\n",
    "from pyspark.sql.functions import count as spark_count, desc\n",
    "\n",
    "print(\"🔋 TIPOS DE VEÍCULOS ELÉTRICOS\")\n",
    "df.groupBy(\"ev_type\") \\\n",
    "  .agg(spark_count(\"*\").alias(\"count\")) \\\n",
    "  .orderBy(desc(\"count\")) \\\n",
    "  .show()\n",
    "\n",
    "# Distribuição por elegibilidade CAFV\n",
    "print(\"🎯 ELEGIBILIDADE PARA INCENTIVOS\")\n",
    "df.groupBy(\"cafv_eligibility\") \\\n",
    "  .agg(spark_count(\"*\").alias(\"count\")) \\\n",
    "  .orderBy(desc(\"count\")) \\\n",
    "  .show(truncate=False)"
   ]
  },
  {
   "cell_type": "code",
   "execution_count": 13,
   "metadata": {},
   "outputs": [
    {
     "name": "stdout",
     "output_type": "stream",
     "text": [
      "📅 CRESCIMENTO ANUAL DE REGISTROS\n"
     ]
    },
    {
     "name": "stderr",
     "output_type": "stream",
     "text": [
      "25/06/14 03:15:04 WARN TaskSetManager: Stage 81 contains a task of very large size (16147 KiB). The maximum recommended task size is 1000 KiB.\n"
     ]
    },
    {
     "name": "stdout",
     "output_type": "stream",
     "text": [
      "+----------+---------+\n",
      "|model_year|registros|\n",
      "+----------+---------+\n",
      "|      2010|       23|\n",
      "|      2011|      656|\n",
      "|      2012|     1462|\n",
      "|      2013|     4168|\n",
      "|      2014|     3364|\n",
      "|      2015|     4613|\n",
      "|      2016|     5302|\n",
      "|      2017|     8755|\n",
      "|      2018|    14504|\n",
      "|      2019|    11055|\n",
      "|      2020|    12390|\n",
      "|      2021|    20794|\n",
      "|      2022|    29337|\n",
      "|      2023|    59088|\n",
      "|      2024|    49799|\n",
      "|      2025|    20820|\n",
      "|      2026|     1186|\n",
      "+----------+---------+\n",
      "\n",
      "🏭 TOP MARCAS POR TIPO DE VEÍCULO\n"
     ]
    },
    {
     "name": "stderr",
     "output_type": "stream",
     "text": [
      "25/06/14 03:15:04 WARN TaskSetManager: Stage 84 contains a task of very large size (16147 KiB). The maximum recommended task size is 1000 KiB.\n"
     ]
    },
    {
     "name": "stdout",
     "output_type": "stream",
     "text": [
      "+------------------------------+-------------+------+\n",
      "|ev_type                       |make         |count |\n",
      "+------------------------------+-------------+------+\n",
      "|Battery Electric Vehicle (BEV)|TESLA        |105001|\n",
      "|Battery Electric Vehicle (BEV)|NISSAN       |15892 |\n",
      "|Battery Electric Vehicle (BEV)|CHEVROLET    |13154 |\n",
      "|Battery Electric Vehicle (BEV)|FORD         |9490  |\n",
      "|Battery Electric Vehicle (BEV)|KIA          |8375  |\n",
      "|Battery Electric Vehicle (BEV)|RIVIAN       |7491  |\n",
      "|Battery Electric Vehicle (BEV)|HYUNDAI      |6893  |\n",
      "|Battery Electric Vehicle (BEV)|VOLKSWAGEN   |6427  |\n",
      "|Battery Electric Vehicle (BEV)|BMW          |4330  |\n",
      "|Battery Electric Vehicle (BEV)|AUDI         |2599  |\n",
      "|Battery Electric Vehicle (BEV)|VOLVO        |2191  |\n",
      "|Battery Electric Vehicle (BEV)|SUBARU       |2007  |\n",
      "|Battery Electric Vehicle (BEV)|MERCEDES-BENZ|1901  |\n",
      "|Battery Electric Vehicle (BEV)|TOYOTA       |1561  |\n",
      "|Battery Electric Vehicle (BEV)|HONDA        |1504  |\n",
      "|Battery Electric Vehicle (BEV)|POLESTAR     |1424  |\n",
      "|Battery Electric Vehicle (BEV)|CADILLAC     |1286  |\n",
      "|Battery Electric Vehicle (BEV)|PORSCHE      |1048  |\n",
      "|Battery Electric Vehicle (BEV)|MINI         |950   |\n",
      "|Battery Electric Vehicle (BEV)|FIAT         |845   |\n",
      "+------------------------------+-------------+------+\n",
      "only showing top 20 rows\n"
     ]
    }
   ],
   "source": [
    "# Análise temporal: crescimento por ano\n",
    "print(\"📅 CRESCIMENTO ANUAL DE REGISTROS\")\n",
    "df.filter(col(\"model_year\").isNotNull()) \\\n",
    "  .filter(col(\"model_year\") >= 2010) \\\n",
    "  .groupBy(\"model_year\") \\\n",
    "  .agg(spark_count(\"*\").alias(\"registros\")) \\\n",
    "  .orderBy(\"model_year\") \\\n",
    "  .show(20)\n",
    "\n",
    "# Top marcas por tipo de veículo\n",
    "print(\"🏭 TOP MARCAS POR TIPO DE VEÍCULO\")\n",
    "df.filter(col(\"make\").isNotNull() & col(\"ev_type\").isNotNull()) \\\n",
    "  .groupBy(\"ev_type\", \"make\") \\\n",
    "  .agg(spark_count(\"*\").alias(\"count\")) \\\n",
    "  .orderBy(\"ev_type\", desc(\"count\")) \\\n",
    "  .show(20, truncate=False)"
   ]
  },
  {
   "cell_type": "markdown",
   "metadata": {},
   "source": [
    "## 8. Operações Avançadas do Spark"
   ]
  },
  {
   "cell_type": "code",
   "execution_count": 14,
   "metadata": {},
   "outputs": [
    {
     "name": "stdout",
     "output_type": "stream",
     "text": [
      "🔧 TRANSFORMAÇÕES E AÇÕES DO SPARK\n",
      "\n",
      "1. TRANSFORMAÇÕES (não executadas até uma ação):\n",
      "   - Criado DataFrame filtrado para Tesla (lazy)\n",
      "   - Adicionada coluna de categoria de alcance (lazy)\n",
      "\n",
      "2. AÇÕES (executam as transformações):\n"
     ]
    },
    {
     "name": "stderr",
     "output_type": "stream",
     "text": [
      "25/06/14 03:15:05 WARN TaskSetManager: Stage 87 contains a task of very large size (16147 KiB). The maximum recommended task size is 1000 KiB.\n",
      "25/06/14 03:15:05 WARN TaskSetManager: Stage 90 contains a task of very large size (16147 KiB). The maximum recommended task size is 1000 KiB.\n"
     ]
    },
    {
     "name": "stdout",
     "output_type": "stream",
     "text": [
      "   - count(): 105,001 Teslas registradas\n",
      "   - show(): Primeiros registros Tesla\n",
      "+-------+----------+--------------+---------+\n",
      "|model  |model_year|electric_range|city     |\n",
      "+-------+----------+--------------+---------+\n",
      "|MODEL S|2020      |337           |Spokane  |\n",
      "|MODEL S|2020      |337           |Olalla   |\n",
      "|MODEL S|2020      |337           |Sammamish|\n",
      "|MODEL S|2020      |337           |Seattle  |\n",
      "|MODEL S|2020      |337           |Olympia  |\n",
      "+-------+----------+--------------+---------+\n",
      "only showing top 5 rows\n"
     ]
    },
    {
     "name": "stderr",
     "output_type": "stream",
     "text": [
      "25/06/14 03:15:05 WARN TaskSetManager: Stage 91 contains a task of very large size (16147 KiB). The maximum recommended task size is 1000 KiB.\n"
     ]
    },
    {
     "name": "stdout",
     "output_type": "stream",
     "text": [
      "   - collect(): Distribuição por categoria de alcance\n",
      "     Muito Baixo Alcance: 208,695\n",
      "     Médio Alcance: 30,674\n",
      "     Baixo Alcance: 5,276\n",
      "     Longo Alcance: 2,699\n"
     ]
    }
   ],
   "source": [
    "# Demonstrando diferentes tipos de operações Spark\n",
    "\n",
    "print(\"🔧 TRANSFORMAÇÕES E AÇÕES DO SPARK\")\n",
    "\n",
    "# 1. TRANSFORMAÇÕES (lazy evaluation)\n",
    "print(\"\\n1. TRANSFORMAÇÕES (não executadas até uma ação):\")\n",
    "\n",
    "# Filter + Select\n",
    "tesla_df = df.filter(col(\"make\") == \"TESLA\") \\\n",
    "             .select(\"model\", \"model_year\", \"electric_range\", \"city\")\n",
    "print(f\"   - Criado DataFrame filtrado para Tesla (lazy)\")\n",
    "\n",
    "# WithColumn (criando nova coluna)\n",
    "df_categorized = df.withColumn(\n",
    "    \"range_category\",\n",
    "    when(col(\"electric_range\") >= 300, \"Longo Alcance\")\n",
    "    .when(col(\"electric_range\") >= 200, \"Médio Alcance\")\n",
    "    .when(col(\"electric_range\") >= 100, \"Baixo Alcance\")\n",
    "    .otherwise(\"Muito Baixo Alcance\")\n",
    ")\n",
    "print(f\"   - Adicionada coluna de categoria de alcance (lazy)\")\n",
    "\n",
    "# 2. AÇÕES (trigger execution)\n",
    "print(\"\\n2. AÇÕES (executam as transformações):\")\n",
    "\n",
    "# Count\n",
    "tesla_count = tesla_df.count()\n",
    "print(f\"   - count(): {tesla_count:,} Teslas registradas\")\n",
    "\n",
    "# Show\n",
    "print(f\"   - show(): Primeiros registros Tesla\")\n",
    "tesla_df.orderBy(desc(\"electric_range\")).show(5, truncate=False)\n",
    "\n",
    "# Collect\n",
    "range_stats = df_categorized.groupBy(\"range_category\") \\\n",
    "                           .agg(spark_count(\"*\").alias(\"count\")) \\\n",
    "                           .orderBy(desc(\"count\")) \\\n",
    "                           .collect()\n",
    "\n",
    "print(f\"   - collect(): Distribuição por categoria de alcance\")\n",
    "for row in range_stats:\n",
    "    print(f\"     {row['range_category']}: {row['count']:,}\")"
   ]
  },
  {
   "cell_type": "code",
   "execution_count": 15,
   "metadata": {},
   "outputs": [
    {
     "name": "stdout",
     "output_type": "stream",
     "text": [
      "🪟 WINDOW FUNCTIONS\n",
      "Top 3 marcas por ano (2020+):\n"
     ]
    },
    {
     "name": "stderr",
     "output_type": "stream",
     "text": [
      "25/06/14 03:15:05 WARN TaskSetManager: Stage 99 contains a task of very large size (16147 KiB). The maximum recommended task size is 1000 KiB.\n"
     ]
    },
    {
     "name": "stdout",
     "output_type": "stream",
     "text": [
      "+----------+----------+-----+----+\n",
      "|model_year|make      |count|rank|\n",
      "+----------+----------+-----+----+\n",
      "|2020      |TESLA     |7131 |1   |\n",
      "|2020      |CHEVROLET |1644 |2   |\n",
      "|2020      |NISSAN    |704  |3   |\n",
      "|2021      |TESLA     |11649|1   |\n",
      "|2021      |TOYOTA    |1202 |2   |\n",
      "|2021      |VOLKSWAGEN|1087 |3   |\n",
      "|2022      |TESLA     |14086|1   |\n",
      "|2022      |KIA       |2152 |2   |\n",
      "|2022      |FORD      |1785 |3   |\n",
      "|2023      |TESLA     |27762|1   |\n",
      "|2023      |FORD      |4280 |2   |\n",
      "|2023      |CHEVROLET |3202 |3   |\n",
      "|2024      |TESLA     |16757|1   |\n",
      "|2024      |KIA       |3776 |2   |\n",
      "|2024      |TOYOTA    |3161 |3   |\n",
      "|2025      |TESLA     |8218 |1   |\n",
      "|2025      |RIVIAN    |1689 |2   |\n",
      "|2025      |BMW       |1575 |3   |\n",
      "|2026      |TESLA     |1181 |1   |\n",
      "|2026      |CADILLAC  |4    |2   |\n",
      "+----------+----------+-----+----+\n",
      "only showing top 20 rows\n"
     ]
    }
   ],
   "source": [
    "# Demonstrando Window Functions\n",
    "from pyspark.sql.window import Window\n",
    "from pyspark.sql.functions import rank, row_number, lag, lead\n",
    "\n",
    "print(\"🪟 WINDOW FUNCTIONS\")\n",
    "\n",
    "# Ranking de marcas por ano\n",
    "window_spec = Window.partitionBy(\"model_year\").orderBy(desc(\"count\"))\n",
    "\n",
    "marca_por_ano = df.filter(col(\"model_year\").isNotNull()) \\\n",
    "                  .filter(col(\"model_year\") >= 2020) \\\n",
    "                  .groupBy(\"model_year\", \"make\") \\\n",
    "                  .agg(spark_count(\"*\").alias(\"count\")) \\\n",
    "                  .withColumn(\"rank\", rank().over(window_spec)) \\\n",
    "                  .filter(col(\"rank\") <= 3) \\\n",
    "                  .orderBy(\"model_year\", \"rank\")\n",
    "\n",
    "print(\"Top 3 marcas por ano (2020+):\")\n",
    "marca_por_ano.show(20, truncate=False)"
   ]
  },
  {
   "cell_type": "code",
   "execution_count": 16,
   "metadata": {},
   "outputs": [
    {
     "name": "stdout",
     "output_type": "stream",
     "text": [
      "🗣️ SPARK SQL\n",
      "Análise por marca e tipo (mín. 100 veículos):\n"
     ]
    },
    {
     "name": "stderr",
     "output_type": "stream",
     "text": [
      "25/06/14 03:15:06 WARN TaskSetManager: Stage 105 contains a task of very large size (16147 KiB). The maximum recommended task size is 1000 KiB.\n"
     ]
    },
    {
     "name": "stdout",
     "output_type": "stream",
     "text": [
      "+---------+--------------------------------------+--------------+------------------+----------+---------+\n",
      "|make     |ev_type                               |total_vehicles|avg_range         |first_year|last_year|\n",
      "+---------+--------------------------------------+--------------+------------------+----------+---------+\n",
      "|TESLA    |Battery Electric Vehicle (BEV)        |25347         |241.30169250798912|2008      |2020     |\n",
      "|NISSAN   |Battery Electric Vehicle (BEV)        |10221         |105.60835534683494|2011      |2020     |\n",
      "|TOYOTA   |Plug-in Hybrid Electric Vehicle (PHEV)|8684          |32.296407185628745|2012      |2025     |\n",
      "|JEEP     |Plug-in Hybrid Electric Vehicle (PHEV)|6086          |22.32007886953664 |2021      |2025     |\n",
      "|BMW      |Plug-in Hybrid Electric Vehicle (PHEV)|6040          |40.154635761589404|2014      |2025     |\n",
      "|CHEVROLET|Battery Electric Vehicle (BEV)        |5487          |237.86659376708585|2014      |2020     |\n",
      "|CHEVROLET|Plug-in Hybrid Electric Vehicle (PHEV)|4686          |45.491677336747756|2011      |2019     |\n",
      "|VOLVO    |Plug-in Hybrid Electric Vehicle (PHEV)|4237          |26.92069860750531 |2016      |2025     |\n",
      "|FORD     |Plug-in Hybrid Electric Vehicle (PHEV)|3780          |22.847354497354498|2013      |2025     |\n",
      "|KIA      |Plug-in Hybrid Electric Vehicle (PHEV)|3603          |31.457396613932833|2017      |2025     |\n",
      "|CHRYSLER |Plug-in Hybrid Electric Vehicle (PHEV)|3479          |32.183098591549296|2017      |2025     |\n",
      "|AUDI     |Plug-in Hybrid Electric Vehicle (PHEV)|1948          |19.94866529774127 |2016      |2025     |\n",
      "|KIA      |Battery Electric Vehicle (BEV)        |1456          |181.75686813186815|2015      |2020     |\n",
      "|MAZDA    |Plug-in Hybrid Electric Vehicle (PHEV)|1166          |26.0              |2024      |2025     |\n",
      "|HYUNDAI  |Plug-in Hybrid Electric Vehicle (PHEV)|1155          |31.366233766233766|2016      |2025     |\n",
      "+---------+--------------------------------------+--------------+------------------+----------+---------+\n",
      "\n",
      "\n",
      "Distribuição geográfica (top 10 condados):\n"
     ]
    },
    {
     "name": "stderr",
     "output_type": "stream",
     "text": [
      "25/06/14 03:15:06 WARN TaskSetManager: Stage 108 contains a task of very large size (16147 KiB). The maximum recommended task size is 1000 KiB.\n"
     ]
    },
    {
     "name": "stdout",
     "output_type": "stream",
     "text": [
      "+---------+------+---------+----------+---------+\n",
      "|county   |total |bev_count|phev_count|avg_range|\n",
      "+---------+------+---------+----------+---------+\n",
      "|King     |122819|100935   |21884     |119.2    |\n",
      "|Snohomish|30587 |25643    |4944      |119.9    |\n",
      "|Pierce   |20534 |16058    |4476      |108.1    |\n",
      "|Clark    |15055 |11275    |3780      |101.4    |\n",
      "|Thurston |9081  |6913     |2168      |106.0    |\n",
      "|Kitsap   |8375  |6359     |2016      |103.6    |\n",
      "|Spokane  |6971  |4964     |2007      |91.7     |\n",
      "|Whatcom  |6030  |4547     |1483      |103.7    |\n",
      "|Benton   |3320  |2407     |913       |110.9    |\n",
      "|Skagit   |2843  |2175     |668       |113.2    |\n",
      "+---------+------+---------+----------+---------+\n",
      "\n"
     ]
    }
   ],
   "source": [
    "# Usando Spark SQL\n",
    "print(\"🗣️ SPARK SQL\")\n",
    "\n",
    "# Registrando o DataFrame como uma tabela temporária\n",
    "df.createOrReplaceTempView(\"electric_vehicles\")\n",
    "\n",
    "# Query SQL complexa\n",
    "sql_query = \"\"\"\n",
    "SELECT \n",
    "    make,\n",
    "    ev_type,\n",
    "    COUNT(*) as total_vehicles,\n",
    "    AVG(electric_range) as avg_range,\n",
    "    MIN(model_year) as first_year,\n",
    "    MAX(model_year) as last_year\n",
    "FROM electric_vehicles \n",
    "WHERE make IS NOT NULL \n",
    "    AND ev_type IS NOT NULL \n",
    "    AND electric_range > 0\n",
    "GROUP BY make, ev_type\n",
    "HAVING COUNT(*) >= 100\n",
    "ORDER BY total_vehicles DESC\n",
    "LIMIT 15\n",
    "\"\"\"\n",
    "\n",
    "resultado_sql = spark.sql(sql_query)\n",
    "print(\"Análise por marca e tipo (mín. 100 veículos):\")\n",
    "resultado_sql.show(truncate=False)\n",
    "\n",
    "# Query geográfica\n",
    "geo_query = \"\"\"\n",
    "SELECT \n",
    "    county,\n",
    "    COUNT(*) as total,\n",
    "    COUNT(CASE WHEN ev_type = 'Battery Electric Vehicle (BEV)' THEN 1 END) as bev_count,\n",
    "    COUNT(CASE WHEN ev_type LIKE '%Plug-in Hybrid%' THEN 1 END) as phev_count,\n",
    "    ROUND(AVG(electric_range), 1) as avg_range\n",
    "FROM electric_vehicles \n",
    "WHERE county IS NOT NULL\n",
    "GROUP BY county\n",
    "ORDER BY total DESC\n",
    "LIMIT 10\n",
    "\"\"\"\n",
    "\n",
    "print(\"\\nDistribuição geográfica (top 10 condados):\")\n",
    "spark.sql(geo_query).show(truncate=False)"
   ]
  },
  {
   "cell_type": "markdown",
   "metadata": {},
   "source": [
    "## 9. Visualizações"
   ]
  },
  {
   "cell_type": "code",
   "execution_count": 17,
   "metadata": {},
   "outputs": [
    {
     "data": {
      "image/png": "[encoded data removed]",
      "text/plain": [
       "<Figure size 1500x1200 with 4 Axes>"
      ]
     },
     "metadata": {},
     "output_type": "display_data"
    },
    {
     "name": "stdout",
     "output_type": "stream",
     "text": [
      "\n",
      "📊 RESUMO ESTATÍSTICO:\n",
      "• Total de veículos analisados: 206,563\n",
      "• Maior alcance médio: 241.3 milhas (TESLA)\n",
      "• Anos com dados: 2010 - 2024\n",
      "• Crescimento recente: 49,799 registros em 2024\n"
     ]
    }
   ],
   "source": [
    "# Convertendo resultados Spark para visualização\n",
    "import matplotlib.pyplot as plt\n",
    "import seaborn as sns\n",
    "\n",
    "# Configurando o estilo\n",
    "plt.style.use('default')\n",
    "sns.set_palette(\"husl\")\n",
    "\n",
    "# 1. Gráfico de barras: Top marcas\n",
    "fig, ((ax1, ax2), (ax3, ax4)) = plt.subplots(2, 2, figsize=(15, 12))\n",
    "fig.suptitle('Análise de Veículos Elétricos - Estado de Washington', fontsize=16, fontweight='bold')\n",
    "\n",
    "# Top marcas\n",
    "marcas_data = resultado_spark['top_marcas'][:8]\n",
    "marcas, counts = zip(*marcas_data)\n",
    "ax1.bar(range(len(marcas)), counts, color=sns.color_palette(\"husl\", len(marcas)))\n",
    "ax1.set_title('Top 8 Marcas de Veículos Elétricos')\n",
    "ax1.set_xticks(range(len(marcas)))\n",
    "ax1.set_xticklabels(marcas, rotation=45, ha='right')\n",
    "ax1.set_ylabel('Número de Veículos')\n",
    "\n",
    "# Tipos de veículos\n",
    "tipos_data = resultado_spark['tipos_ev']\n",
    "tipos, tipo_counts = zip(*tipos_data)\n",
    "tipos_short = [t.replace('Battery Electric Vehicle (BEV)', 'BEV').replace('Plug-in Hybrid Electric Vehicle (PHEV)', 'PHEV') for t in tipos]\n",
    "ax2.pie(tipo_counts, labels=tipos_short, autopct='%1.1f%%', startangle=90)\n",
    "ax2.set_title('Distribuição por Tipo de Veículo')\n",
    "\n",
    "# Alcance médio por marca\n",
    "alcance_data = resultado_spark['alcance_medio']\n",
    "marcas_alcance = list(alcance_data.keys())\n",
    "alcances = list(alcance_data.values())\n",
    "ax3.bar(marcas_alcance, alcances, color=sns.color_palette(\"viridis\", len(marcas_alcance)))\n",
    "ax3.set_title('Alcance Elétrico Médio por Marca (Top 5)')\n",
    "ax3.set_ylabel('Alcance (milhas)')\n",
    "ax3.tick_params(axis='x', rotation=45)\n",
    "\n",
    "# Crescimento temporal\n",
    "anos_data = resultado_spark['distribuicao_anos']\n",
    "anos_filtrados = {k: v for k, v in anos_data.items() if k >= 2010 and k <= 2024}\n",
    "anos_ordenados = sorted(anos_filtrados.items())\n",
    "anos, registros = zip(*anos_ordenados)\n",
    "ax4.plot(anos, registros, marker='o', linewidth=2, markersize=6, color='#2E86AB')\n",
    "ax4.fill_between(anos, registros, alpha=0.3, color='#2E86AB')\n",
    "ax4.set_title('Crescimento de Registros por Ano')\n",
    "ax4.set_xlabel('Ano')\n",
    "ax4.set_ylabel('Número de Registros')\n",
    "ax4.grid(True, alpha=0.3)\n",
    "\n",
    "plt.tight_layout()\n",
    "plt.show()\n",
    "\n",
    "# Estatísticas adicionais\n",
    "print(\"\\n📊 RESUMO ESTATÍSTICO:\")\n",
    "total_veiculos = sum(count for _, count in resultado_spark['top_marcas'])\n",
    "print(f\"• Total de veículos analisados: {total_veiculos:,}\")\n",
    "print(f\"• Maior alcance médio: {max(alcance_data.values()):.1f} milhas ({max(alcance_data, key=alcance_data.get)})\")\n",
    "print(f\"• Anos com dados: {min(anos)} - {max(anos)}\")\n",
    "print(f\"• Crescimento recente: {registros[-1]:,} registros em {anos[-1]}\")"
   ]
  },
  {
   "cell_type": "markdown",
   "metadata": {},
   "source": [
    "## 10. Otimizações e Melhores Práticas"
   ]
  },
  {
   "cell_type": "code",
   "execution_count": 18,
   "metadata": {},
   "outputs": [
    {
     "name": "stdout",
     "output_type": "stream",
     "text": [
      "⚡ OTIMIZAÇÕES E MELHORES PRÁTICAS DO SPARK\n",
      "\n",
      "1. PARTICIONAMENTO:\n",
      "   • Número atual de partições: 4\n",
      "   • Registros por partição: ~61,836\n"
     ]
    },
    {
     "name": "stderr",
     "output_type": "stream",
     "text": [
      "25/06/14 03:15:07 WARN TaskSetManager: Stage 111 contains a task of very large size (16147 KiB). The maximum recommended task size is 1000 KiB.\n",
      "25/06/14 03:15:08 WARN TaskSetManager: Stage 114 contains a task of very large size (16147 KiB). The maximum recommended task size is 1000 KiB.\n"
     ]
    },
    {
     "name": "stdout",
     "output_type": "stream",
     "text": [
      "   • Após reparticionamento por 'make': 4 partições\n",
      "\n",
      "2. CACHE E PERSISTÊNCIA:\n",
      "   • DataFrame está cacheado: True\n",
      "   • Opções: MEMORY_ONLY, MEMORY_AND_DISK, DISK_ONLY, etc.\n",
      "\n",
      "3. BROADCAST JOINS:\n",
      "   • Para JOINs com tabelas pequenas (<200MB)\n",
      "   • Evita shuffle custoso\n",
      "\n",
      "4. PREDICATE PUSHDOWN:\n",
      "   • Filtros aplicados o mais cedo possível\n",
      "   • Reduz dados processados\n",
      "\n",
      "   Exemplo RUIM:\n",
      "   df.groupBy('make').count().filter(col('count') > 100)\n",
      "\n",
      "   Exemplo BOM:\n",
      "   df.filter(col('make').isNotNull()).groupBy('make').count().filter(col('count') > 100)\n",
      "\n",
      "5. CONFIGURAÇÕES IMPORTANTES:\n",
      "   • spark.sql.adaptive.enabled: true (Otimização adaptativa)\n",
      "   • spark.sql.adaptive.coalescePartitions.enabled: true (Coalescer partições pequenas)\n",
      "   • spark.serializer: não configurado (Serialização (recomendado: KryoSerializer))\n",
      "   • spark.sql.adaptive.skewJoin.enabled: não configurado (Otimização para joins com skew)\n"
     ]
    },
    {
     "name": "stderr",
     "output_type": "stream",
     "text": [
      "25/06/14 03:15:08 WARN CacheManager: Asked to cache already cached data.\n",
      "25/06/14 03:15:08 WARN CacheManager: Asked to cache already cached data.\n"
     ]
    }
   ],
   "source": [
    "print(\"⚡ OTIMIZAÇÕES E MELHORES PRÁTICAS DO SPARK\")\n",
    "\n",
    "# 1. Informações sobre particionamento\n",
    "print(f\"\\n1. PARTICIONAMENTO:\")\n",
    "print(f\"   • Número atual de partições: {df.rdd.getNumPartitions()}\")\n",
    "print(f\"   • Registros por partição: ~{df.count() // df.rdd.getNumPartitions():,}\")\n",
    "\n",
    "# 2. Demonstrando reparticionamento\n",
    "df_repartitioned = df.repartition(4, \"make\")\n",
    "print(f\"   • Após reparticionamento por 'make': {df_repartitioned.rdd.getNumPartitions()} partições\")\n",
    "\n",
    "# 3. Cache/Persist\n",
    "from pyspark import StorageLevel\n",
    "print(f\"\\n2. CACHE E PERSISTÊNCIA:\")\n",
    "print(f\"   • DataFrame está cacheado: {df.is_cached}\")\n",
    "\n",
    "# Exemplo de diferentes níveis de cache\n",
    "df_memory_only = df.persist(StorageLevel.MEMORY_ONLY)\n",
    "df_memory_and_disk = df.persist(StorageLevel.MEMORY_AND_DISK)\n",
    "print(f\"   • Opções: MEMORY_ONLY, MEMORY_AND_DISK, DISK_ONLY, etc.\")\n",
    "\n",
    "# 4. Broadcast Join (exemplo conceitual)\n",
    "print(f\"\\n3. BROADCAST JOINS:\")\n",
    "print(f\"   • Para JOINs com tabelas pequenas (<200MB)\")\n",
    "print(f\"   • Evita shuffle custoso\")\n",
    "\n",
    "# 5. Predicate Pushdown\n",
    "print(f\"\\n4. PREDICATE PUSHDOWN:\")\n",
    "print(f\"   • Filtros aplicados o mais cedo possível\")\n",
    "print(f\"   • Reduz dados processados\")\n",
    "\n",
    "# Exemplo de query otimizada vs não otimizada\n",
    "print(f\"\\n   Exemplo RUIM:\")\n",
    "print(f\"   df.groupBy('make').count().filter(col('count') > 100)\")\n",
    "\n",
    "print(f\"\\n   Exemplo BOM:\")\n",
    "print(f\"   df.filter(col('make').isNotNull()).groupBy('make').count().filter(col('count') > 100)\")\n",
    "\n",
    "# 6. Configurações importantes\n",
    "print(f\"\\n5. CONFIGURAÇÕES IMPORTANTES:\")\n",
    "spark_configs = spark.sparkContext.getConf().getAll()\n",
    "configs_importantes = {\n",
    "    'spark.sql.adaptive.enabled': 'Otimização adaptativa',\n",
    "    'spark.sql.adaptive.coalescePartitions.enabled': 'Coalescer partições pequenas',\n",
    "    'spark.serializer': 'Serialização (recomendado: KryoSerializer)',\n",
    "    'spark.sql.adaptive.skewJoin.enabled': 'Otimização para joins com skew'\n",
    "}\n",
    "\n",
    "for config, descricao in configs_importantes.items():\n",
    "    valor = dict(spark_configs).get(config, 'não configurado')\n",
    "    print(f\"   • {config}: {valor} ({descricao})\")"
   ]
  },
  {
   "cell_type": "markdown",
   "metadata": {},
   "source": [
    "## 11. Análise de Performance e Monitoring"
   ]
  },
  {
   "cell_type": "code",
   "execution_count": null,
   "metadata": {},
   "outputs": [
    {
     "name": "stdout",
     "output_type": "stream",
     "text": [
      "📈 MONITORAMENTO E PERFORMANCE\n",
      "\n",
      "1. INFORMAÇÕES DA SESSÃO:\n",
      "   • Application ID: local-1749870872210\n",
      "   • Application Name: AnaliseVeiculosEletricos\n",
      "   • Spark Version: 4.0.0\n",
      "   • Default Parallelism: 4\n",
      "\n",
      "2. MONITORAMENTO:\n",
      "   • Spark UI: http://4de482d4-a852-42d6-91b7-6413f050a846.internal.cloudapp.net:4040\n",
      "   • Aqui você pode ver: Jobs, Stages, Storage, Environment, Executors\n",
      "\n",
      "3. PLANO DE EXECUÇÃO:\n",
      "\n",
      "Plano lógico:\n",
      "== Parsed Logical Plan ==\n",
      "'Sort ['count DESC NULLS LAST], true\n",
      "+- Aggregate [model#12], [model#12, count(1) AS count#14807L]\n",
      "   +- Filter (make#11 = TESLA)\n",
      "      +- LogicalRDD [base_msrp#0, cafv_eligibility#1, census_tract#2, city#3, county#4, dol_vehicle_id#5, electric_range#6L, electric_utility#7, ev_type#8, geocoded_column#9, legislative_district#10, make#11, model#12, model_year#13L, postal_code#14, state#15, vin#16], false\n",
      "\n",
      "== Analyzed Logical Plan ==\n",
      "model: string, count: bigint\n",
      "Sort [count#14807L DESC NULLS LAST], true\n",
      "+- Aggregate [model#12], [model#12, count(1) AS count#14807L]\n",
      "   +- Filter (make#11 = TESLA)\n",
      "      +- LogicalRDD [base_msrp#0, cafv_eligibility#1, census_tract#2, city#3, county#4, dol_vehicle_id#5, electric_range#6L, electric_utility#7, ev_type#8, geocoded_column#9, legislative_district#10, make#11, model#12, model_year#13L, postal_code#14, state#15, vin#16], false\n",
      "\n",
      "== Optimized Logical Plan ==\n",
      "Sort [count#14807L DESC NULLS LAST], true\n",
      "+- Aggregate [model#12], [model#12, count(1) AS count#14807L]\n",
      "   +- Project [model#12]\n",
      "      +- Filter (isnotnull(make#11) AND (make#11 = TESLA))\n",
      "         +- InMemoryRelation [base_msrp#0, cafv_eligibility#1, census_tract#2, city#3, county#4, dol_vehicle_id#5, electric_range#6L, electric_utility#7, ev_type#8, geocoded_column#9, legislative_district#10, make#11, model#12, model_year#13L, postal_code#14, state#15, vin#16], StorageLevel(disk, memory, deserialized, 1 replicas)\n",
      "               +- *(1) Scan ExistingRDD[base_msrp#0,cafv_eligibility#1,census_tract#2,city#3,county#4,dol_vehicle_id#5,electric_range#6L,electric_utility#7,ev_type#8,geocoded_column#9,legislative_district#10,make#11,model#12,model_year#13L,postal_code#14,state#15,vin#16]\n",
      "\n",
      "== Physical Plan ==\n",
      "AdaptiveSparkPlan isFinalPlan=false\n",
      "+- Sort [count#14807L DESC NULLS LAST], true, 0\n",
      "   +- Exchange rangepartitioning(count#14807L DESC NULLS LAST, 200), ENSURE_REQUIREMENTS, [plan_id=2293]\n",
      "      +- HashAggregate(keys=[model#12], functions=[count(1)], output=[model#12, count#14807L])\n",
      "         +- Exchange hashpartitioning(model#12, 200), ENSURE_REQUIREMENTS, [plan_id=2290]\n",
      "            +- HashAggregate(keys=[model#12], functions=[partial_count(1)], output=[model#12, count#15082L])\n",
      "               +- Project [model#12]\n",
      "                  +- Filter (isnotnull(make#11) AND (make#11 = TESLA))\n",
      "                     +- InMemoryTableScan [make#11, model#12], [isnotnull(make#11), (make#11 = TESLA)]\n",
      "                           +- InMemoryRelation [base_msrp#0, cafv_eligibility#1, census_tract#2, city#3, county#4, dol_vehicle_id#5, electric_range#6L, electric_utility#7, ev_type#8, geocoded_column#9, legislative_district#10, make#11, model#12, model_year#13L, postal_code#14, state#15, vin#16], StorageLevel(disk, memory, deserialized, 1 replicas)\n",
      "                                 +- *(1) Scan ExistingRDD[base_msrp#0,cafv_eligibility#1,census_tract#2,city#3,county#4,dol_vehicle_id#5,electric_range#6L,electric_utility#7,ev_type#8,geocoded_column#9,legislative_district#10,make#11,model#12,model_year#13L,postal_code#14,state#15,vin#16]\n",
      "\n",
      "\n",
      "4. BENCHMARK DE OPERAÇÕES:\n",
      "   • Count total: 77.38ms\n"
     ]
    },
    {
     "name": "stderr",
     "output_type": "stream",
     "text": [
      "25/06/14 03:15:08 WARN TaskSetManager: Stage 115 contains a task of very large size (16147 KiB). The maximum recommended task size is 1000 KiB.\n",
      "25/06/14 03:15:08 WARN TaskSetManager: Stage 118 contains a task of very large size (16147 KiB). The maximum recommended task size is 1000 KiB.\n"
     ]
    },
    {
     "name": "stdout",
     "output_type": "stream",
     "text": [
      "   • Filter Tesla + Count: 133.28ms\n"
     ]
    },
    {
     "name": "stderr",
     "output_type": "stream",
     "text": [
      "25/06/14 03:15:08 WARN TaskSetManager: Stage 121 contains a task of very large size (16147 KiB). The maximum recommended task size is 1000 KiB.\n"
     ]
    },
    {
     "name": "stdout",
     "output_type": "stream",
     "text": [
      "   • GroupBy make: 250.61ms\n"
     ]
    },
    {
     "name": "stderr",
     "output_type": "stream",
     "text": [
      "25/06/14 03:15:09 WARN TaskSetManager: Stage 124 contains a task of very large size (16147 KiB). The maximum recommended task size is 1000 KiB.\n",
      "25/06/14 03:15:09 WARN TaskSetManager: Stage 125 contains a task of very large size (16147 KiB). The maximum recommended task size is 1000 KiB.\n",
      "[Stage 125:>                                                        (0 + 4) / 4]\r"
     ]
    }
   ],
   "source": [
    "print(\"📈 MONITORAMENTO E PERFORMANCE\")\n",
    "\n",
    "# 1. Informações do SparkContext\n",
    "sc = spark.sparkContext\n",
    "print(f\"\\n1. INFORMAÇÕES DA SESSÃO:\")\n",
    "print(f\"   • Application ID: {sc.applicationId}\")\n",
    "print(f\"   • Application Name: {sc.appName}\")\n",
    "print(f\"   • Spark Version: {sc.version}\")\n",
    "print(f\"   • Default Parallelism: {sc.defaultParallelism}\")\n",
    "\n",
    "# 2. Spark UI\n",
    "print(f\"\\n2. MONITORAMENTO:\")\n",
    "print(f\"   • Spark UI: {sc.uiWebUrl}\")\n",
    "print(f\"   • Aqui você pode ver: Jobs, Stages, Storage, Environment, Executors\")\n",
    "\n",
    "# 3. Exemplo de análise de plano de execução\n",
    "print(f\"\\n3. PLANO DE EXECUÇÃO:\")\n",
    "query_plan = df.filter(col(\"make\") == \"TESLA\") \\\n",
    "               .groupBy(\"model\") \\\n",
    "               .count() \\\n",
    "               .orderBy(desc(\"count\"))\n",
    "\n",
    "print(\"\\nPlano lógico:\")\n",
    "query_plan.explain(True)\n",
    "\n",
    "# 4. Medindo performance de diferentes operações\n",
    "import time\n",
    "\n",
    "def medir_tempo(operacao_nome, operacao_func):\n",
    "    start = time.time()\n",
    "    resultado = operacao_func()\n",
    "    end = time.time()\n",
    "    print(f\"   • {operacao_nome}: {(end-start)*1000:.2f}ms\")\n",
    "    return resultado\n",
    "\n",
    "print(f\"\\n4. BENCHMARK DE OPERAÇÕES:\")\n",
    "\n",
    "# Count\n",
    "medir_tempo(\"Count total\", lambda: df.count())\n",
    "\n",
    "# Filter + Count\n",
    "medir_tempo(\"Filter Tesla + Count\", lambda: df.filter(col(\"make\") == \"TESLA\").count())\n",
    "\n",
    "# GroupBy\n",
    "medir_tempo(\"GroupBy make\", lambda: df.groupBy(\"make\").count().collect())\n",
    "\n",
    "# Join (self-join como exemplo)\n",
    "medir_tempo(\"Self-join\", lambda: df.alias(\"a\").join(df.alias(\"b\"), col(\"a.make\") == col(\"b.make\")).count())"
   ]
  },
  {
   "cell_type": "markdown",
   "metadata": {},
   "source": [
    "## 12. Conclusões e Próximos Passos"
   ]
  },
  {
   "cell_type": "code",
   "execution_count": null,
   "metadata": {},
   "outputs": [],
   "source": [
    "print(\"🎯 CONCLUSÕES DA AULA DE SPARK\\n\")\n",
    "\n",
    "print(\"✅ O QUE APRENDEMOS:\")\n",
    "print(\"   1. Diferenças entre processamento Python puro vs Spark\")\n",
    "print(\"   2. Conceitos fundamentais: RDDs, DataFrames, transformações vs ações\")\n",
    "print(\"   3. Operações essenciais: filter, groupBy, join, window functions\")\n",
    "print(\"   4. Spark SQL para queries complexas\")\n",
    "print(\"   5. Otimizações: cache, particionamento, broadcast joins\")\n",
    "print(\"   6. Monitoramento e debugging\")\n",
    "\n",
    "print(\"\\n🚀 QUANDO USAR SPARK:\")\n",
    "print(\"   ✓ Datasets grandes (>1GB)\")\n",
    "print(\"   ✓ Processamento distribuído\")\n",
    "print(\"   ✓ ETL complexo\")\n",
    "print(\"   ✓ Análises em tempo real (Spark Streaming)\")\n",
    "print(\"   ✓ Machine Learning em escala (MLlib)\")\n",
    "\n",
    "print(\"\\n📚 PRÓXIMOS PASSOS:\")\n",
    "print(\"   1. Spark Streaming para dados em tempo real\")\n",
    "print(\"   2. MLlib para Machine Learning\")\n",
    "print(\"   3. GraphX para análise de grafos\")\n",
    "print(\"   4. Delta Lake para versionamento de dados\")\n",
    "print(\"   5. Spark no Kubernetes/Cloud\")\n",
    "\n",
    "print(\"\\n💡 DICAS FINAIS:\")\n",
    "print(\"   • Sempre profile seu código\")\n",
    "print(\"   • Use cache sabiamente\")\n",
    "print(\"   • Monitore o Spark UI\")\n",
    "print(\"   • Otimize particionamento\")\n",
    "print(\"   • Considere alternativas (Pandas, Dask) para casos específicos\")\n",
    "\n",
    "# Limpeza\n",
    "print(\"\\n🧹 LIMPANDO RECURSOS:\")\n",
    "df.unpersist()\n",
    "spark.catalog.clearCache()\n",
    "print(\"   • Cache limpo\")\n",
    "print(\"   • Para parar o Spark: spark.stop()\")\n",
    "\n",
    "print(\"\\n🎉 AULA CONCLUÍDA! Spark é uma ferramenta poderosa para Big Data.\")"
   ]
  },
  {
   "cell_type": "code",
   "execution_count": null,
   "metadata": {},
   "outputs": [],
   "source": [
    "# Opcional: parar o Spark\n",
    "spark.stop()\n",
    "print(\"Spark finalizado.\")"
   ]
  }
 ],
 "metadata": {
  "kernelspec": {
   "display_name": "Python 3",
   "language": "python",
   "name": "python3"
  },
  "language_info": {
   "codemirror_mode": {
    "name": "ipython",
    "version": 3
   },
   "file_extension": ".py",
   "mimetype": "text/x-python",
   "name": "python",
   "nbconvert_exporter": "python",
   "pygments_lexer": "ipython3",
   "version": "3.12.1"
  }
 },
 "nbformat": 4,
 "nbformat_minor": 4
}
